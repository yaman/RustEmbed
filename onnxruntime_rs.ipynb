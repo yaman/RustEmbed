{
 "cells": [
  {
   "cell_type": "code",
   "execution_count": 5,
   "metadata": {},
   "outputs": [
    {
     "ename": "Error",
     "evalue": "unresolved import `ort`",
     "output_type": "error",
     "traceback": [
      "\u001b[31m[E0432] Error:\u001b[0m unresolved import `ort`"
     ]
    },
    {
     "ename": "Error",
     "evalue": "unresolved import `ort`",
     "output_type": "error",
     "traceback": [
      "\u001b[31m[E0432] Error:\u001b[0m unresolved import `ort`"
     ]
    },
    {
     "ename": "Error",
     "evalue": "failed to resolve: use of undeclared crate or module `ort`",
     "output_type": "error",
     "traceback": [
      "\u001b[31m[E0433] Error:\u001b[0m failed to resolve: use of undeclared crate or module `ort`"
     ]
    },
    {
     "ename": "Error",
     "evalue": "unresolved import `ort`",
     "output_type": "error",
     "traceback": [
      "\u001b[31m[E0432] Error:\u001b[0m unresolved import `ort`"
     ]
    },
    {
     "ename": "Error",
     "evalue": "unresolved import `ort`",
     "output_type": "error",
     "traceback": [
      "\u001b[31m[E0432] Error:\u001b[0m unresolved import `ort`"
     ]
    }
   ],
   "source": [
    "use ort::session::Session;\n",
    "use ort::{Environment, GraphOptimizationLevel, SessionBuilder, Value};\n",
    "\n",
    "let environment = Environment::builder().build()?;\n",
    "let mut session = SessionBuilder::new()\n",
    "    .with_environment(environment)\n",
    "    .with_model_from_file(\"fashion-clip-onnx/model.onnx\")?;\n",
    "for input in &session.inputs {\n",
    "    println!(\"Name: {}\", input.name);\n",
    "    println!(\"Type: {:?}\", input.input_type);\n",
    "    println!(\"Dimensions: {:?}\", input.dimensions);\n",
    "}"
   ]
  }
 ],
 "metadata": {
  "kernelspec": {
   "display_name": "Rust",
   "language": "rust",
   "name": "rust"
  },
  "language_info": {
   "codemirror_mode": "rust",
   "file_extension": ".rs",
   "mimetype": "text/rust",
   "name": "rust",
   "pygment_lexer": "rust",
   "version": ""
  }
 },
 "nbformat": 4,
 "nbformat_minor": 2
}
