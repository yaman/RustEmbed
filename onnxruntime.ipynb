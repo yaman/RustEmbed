{
 "cells": [
  {
   "cell_type": "code",
   "execution_count": 14,
   "metadata": {},
   "outputs": [
    {
     "name": "stdout",
     "output_type": "stream",
     "text": [
      "\u001b[33mWARNING: Skipping onnxruntime as it is not installed.\u001b[0m\u001b[33m\n",
      "\u001b[0mFound existing installation: onnx 1.14.1\n",
      "Uninstalling onnx-1.14.1:\n",
      "  Successfully uninstalled onnx-1.14.1\n",
      "Found existing installation: onnxruntime-gpu 1.16.0\n",
      "Uninstalling onnxruntime-gpu-1.16.0:\n",
      "  Successfully uninstalled onnxruntime-gpu-1.16.0\n",
      "Collecting onnxruntime-gpu\n",
      "  Obtaining dependency information for onnxruntime-gpu from https://files.pythonhosted.org/packages/8b/bb/550c2b3fa8c6a10af164354d74c07a5f3a3ef7c62ccdfe8d90576dea9edb/onnxruntime_gpu-1.16.0-cp310-cp310-manylinux_2_17_x86_64.manylinux2014_x86_64.whl.metadata\n",
      "  Using cached onnxruntime_gpu-1.16.0-cp310-cp310-manylinux_2_17_x86_64.manylinux2014_x86_64.whl.metadata (4.0 kB)\n",
      "Collecting onnx\n",
      "  Obtaining dependency information for onnx from https://files.pythonhosted.org/packages/47/d4/f2d212558245e252b936247666c3f5981e6dba62ec470ff8be3df3389364/onnx-1.14.1-cp310-cp310-manylinux_2_17_x86_64.manylinux2014_x86_64.whl.metadata\n",
      "  Using cached onnx-1.14.1-cp310-cp310-manylinux_2_17_x86_64.manylinux2014_x86_64.whl.metadata (15 kB)\n",
      "Requirement already satisfied: coloredlogs in /opt/miniconda3/envs/search/lib/python3.10/site-packages (from onnxruntime-gpu) (15.0.1)\n",
      "Requirement already satisfied: flatbuffers in /opt/miniconda3/envs/search/lib/python3.10/site-packages (from onnxruntime-gpu) (23.5.26)\n",
      "Requirement already satisfied: numpy>=1.21.6 in /opt/miniconda3/envs/search/lib/python3.10/site-packages (from onnxruntime-gpu) (1.23.3)\n",
      "Requirement already satisfied: packaging in /opt/miniconda3/envs/search/lib/python3.10/site-packages (from onnxruntime-gpu) (21.3)\n",
      "Requirement already satisfied: protobuf in /opt/miniconda3/envs/search/lib/python3.10/site-packages (from onnxruntime-gpu) (4.21.7)\n",
      "Requirement already satisfied: sympy in /opt/miniconda3/envs/search/lib/python3.10/site-packages (from onnxruntime-gpu) (1.11.1)\n",
      "Requirement already satisfied: typing-extensions>=3.6.2.1 in /opt/miniconda3/envs/search/lib/python3.10/site-packages (from onnx) (4.3.0)\n",
      "Requirement already satisfied: humanfriendly>=9.1 in /opt/miniconda3/envs/search/lib/python3.10/site-packages (from coloredlogs->onnxruntime-gpu) (10.0)\n",
      "Requirement already satisfied: pyparsing!=3.0.5,>=2.0.2 in /opt/miniconda3/envs/search/lib/python3.10/site-packages (from packaging->onnxruntime-gpu) (3.0.9)\n",
      "Requirement already satisfied: mpmath>=0.19 in /opt/miniconda3/envs/search/lib/python3.10/site-packages (from sympy->onnxruntime-gpu) (1.3.0)\n",
      "Using cached onnxruntime_gpu-1.16.0-cp310-cp310-manylinux_2_17_x86_64.manylinux2014_x86_64.whl (153.4 MB)\n",
      "Using cached onnx-1.14.1-cp310-cp310-manylinux_2_17_x86_64.manylinux2014_x86_64.whl (14.6 MB)\n",
      "Installing collected packages: onnx, onnxruntime-gpu\n",
      "Successfully installed onnx-1.14.1 onnxruntime-gpu-1.16.0\n"
     ]
    }
   ],
   "source": [
    "!pip uninstall -y onnxruntime onnx onnxruntime-gpu\n",
    "!pip install onnxruntime-gpu onnx\n"
   ]
  },
  {
   "cell_type": "code",
   "execution_count": 15,
   "metadata": {},
   "outputs": [
    {
     "name": "stderr",
     "output_type": "stream",
     "text": [
      "/opt/miniconda3/envs/search/lib/python3.10/site-packages/onnxruntime/capi/onnxruntime_inference_collection.py:69: UserWarning: Specified provider 'CUDAExecutionProvider' is not in available provider names.Available providers: 'AzureExecutionProvider, CPUExecutionProvider'\n",
      "  warnings.warn(\n"
     ]
    }
   ],
   "source": [
    "import onnxruntime as ort\n",
    "session = ort.InferenceSession(\"/home/canavar/projects/embedding_rust_ort/fashion-clip-onnx/model.onnx\", providers=[\"CUDAExecutionProvider\"])\n"
   ]
  },
  {
   "cell_type": "code",
   "execution_count": 6,
   "metadata": {},
   "outputs": [
    {
     "name": "stdout",
     "output_type": "stream",
     "text": [
      "Input Details: [<onnxruntime.capi.onnxruntime_pybind11_state.NodeArg object at 0x7f49c107bc30>, <onnxruntime.capi.onnxruntime_pybind11_state.NodeArg object at 0x7f49c107a9f0>, <onnxruntime.capi.onnxruntime_pybind11_state.NodeArg object at 0x7f49c104feb0>]\n",
      "input_ids tensor(int64)\n",
      "pixel_values tensor(float)\n",
      "attention_mask tensor(int64)\n",
      "Output Details: [<onnxruntime.capi.onnxruntime_pybind11_state.NodeArg object at 0x7f49c104fe30>, <onnxruntime.capi.onnxruntime_pybind11_state.NodeArg object at 0x7f49c1087330>, <onnxruntime.capi.onnxruntime_pybind11_state.NodeArg object at 0x7f49c1084f70>, <onnxruntime.capi.onnxruntime_pybind11_state.NodeArg object at 0x7f49c10852b0>]\n",
      "logits_per_image tensor(float)\n",
      "logits_per_text tensor(float)\n",
      "text_embeds tensor(float)\n",
      "image_embeds tensor(float)\n"
     ]
    }
   ],
   "source": [
    "input_details = session.get_inputs()\n",
    "output_details = session.get_outputs()\n",
    "\n",
    "print(\"Input Details:\", input_details)\n",
    "for input_detail in input_details:\n",
    "    print(input_detail.name, input_detail.type)\n",
    "\n",
    "print(\"Output Details:\", output_details)\n",
    "for output_detail in output_details:\n",
    "    print(output_detail.name, output_detail.type)\n",
    "\n"
   ]
  }
 ],
 "metadata": {
  "kernelspec": {
   "display_name": "search",
   "language": "python",
   "name": "python3"
  },
  "language_info": {
   "codemirror_mode": {
    "name": "ipython",
    "version": 3
   },
   "file_extension": ".py",
   "mimetype": "text/x-python",
   "name": "python",
   "nbconvert_exporter": "python",
   "pygments_lexer": "ipython3",
   "version": "3.10.13"
  },
  "orig_nbformat": 4
 },
 "nbformat": 4,
 "nbformat_minor": 2
}
